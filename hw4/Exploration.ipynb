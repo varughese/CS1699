{
 "cells": [
  {
   "cell_type": "code",
   "execution_count": 2,
   "metadata": {},
   "outputs": [],
   "source": [
    "import collections\n",
    "import copy\n",
    "import os\n",
    "\n",
    "import matplotlib.pyplot as plt\n",
    "import seaborn as sns\n",
    "import torch\n",
    "import torch.nn as nn\n",
    "from absl import app, flags\n",
    "from skimage import io\n",
    "from torch.utils.data import DataLoader, Dataset\n",
    "from torch.utils.tensorboard import SummaryWriter\n",
    "from torchvision import transforms\n",
    "from tqdm import tqdm"
   ]
  },
  {
   "cell_type": "code",
   "execution_count": 21,
   "metadata": {},
   "outputs": [
    {
     "ename": "TypeError",
     "evalue": "isdir() got an unexpected keyword argument 'maxsplit'",
     "output_type": "error",
     "traceback": [
      "\u001b[0;31m---------------------------------------------------------------------------\u001b[0m",
      "\u001b[0;31mTypeError\u001b[0m                                 Traceback (most recent call last)",
      "\u001b[0;32m<ipython-input-21-5edd4b52e4b3>\u001b[0m in \u001b[0;36m<module>\u001b[0;34m\u001b[0m\n\u001b[1;32m      1\u001b[0m \u001b[0mroot_dir\u001b[0m \u001b[0;34m=\u001b[0m \u001b[0mos\u001b[0m\u001b[0;34m.\u001b[0m\u001b[0mpath\u001b[0m\u001b[0;34m.\u001b[0m\u001b[0mjoin\u001b[0m\u001b[0;34m(\u001b[0m\u001b[0;34m'pacs_dataset'\u001b[0m\u001b[0;34m,\u001b[0m \u001b[0;34m'train'\u001b[0m\u001b[0;34m)\u001b[0m\u001b[0;34m\u001b[0m\u001b[0m\n\u001b[0;32m----> 2\u001b[0;31m \u001b[0mos\u001b[0m\u001b[0;34m.\u001b[0m\u001b[0mpath\u001b[0m\u001b[0;34m.\u001b[0m\u001b[0misdir\u001b[0m\u001b[0;34m(\u001b[0m\u001b[0mroot_dir\u001b[0m\u001b[0;34m,\u001b[0m \u001b[0mmaxsplit\u001b[0m\u001b[0;34m=\u001b[0m\u001b[0;36m2\u001b[0m\u001b[0;34m)\u001b[0m\u001b[0;34m\u001b[0m\u001b[0m\n\u001b[0m\u001b[1;32m      3\u001b[0m \u001b[0mdataset\u001b[0m \u001b[0;34m=\u001b[0m \u001b[0;34m[\u001b[0m\u001b[0;34m]\u001b[0m\u001b[0;34m\u001b[0m\u001b[0m\n\u001b[1;32m      4\u001b[0m \u001b[0mdomain_set\u001b[0m \u001b[0;34m=\u001b[0m \u001b[0mset\u001b[0m\u001b[0;34m(\u001b[0m\u001b[0;34m)\u001b[0m\u001b[0;34m\u001b[0m\u001b[0m\n\u001b[1;32m      5\u001b[0m \u001b[0mcategory_set\u001b[0m \u001b[0;34m=\u001b[0m \u001b[0mset\u001b[0m\u001b[0;34m(\u001b[0m\u001b[0;34m)\u001b[0m\u001b[0;34m\u001b[0m\u001b[0m\n",
      "\u001b[0;31mTypeError\u001b[0m: isdir() got an unexpected keyword argument 'maxsplit'"
     ]
    }
   ],
   "source": [
    "root_dir = os.path.join('pacs_dataset', 'train')\n",
    "os.path.isdir(root_dir)\n",
    "dataset = []\n",
    "domain_set = set()\n",
    "category_set = set()\n",
    "cnt = 0"
   ]
  },
  {
   "cell_type": "code",
   "execution_count": 29,
   "metadata": {},
   "outputs": [
    {
     "name": "stderr",
     "output_type": "stream",
     "text": [
      "Processing Folder: domain=cartoon, category=dog:   3%|▎         | 12/343 [00:00<00:02, 116.11it/s]"
     ]
    },
    {
     "name": "stdout",
     "output_type": "stream",
     "text": [
      "cartoon\n",
      "dog\n"
     ]
    },
    {
     "name": "stderr",
     "output_type": "stream",
     "text": [
      "Processing Folder: domain=cartoon, category=dog: 100%|██████████| 343/343 [00:01<00:00, 219.00it/s]\n",
      "Processing Folder: domain=cartoon, category=person:   4%|▍         | 15/364 [00:00<00:02, 144.67it/s]"
     ]
    },
    {
     "name": "stdout",
     "output_type": "stream",
     "text": [
      "cartoon\n",
      "person\n"
     ]
    },
    {
     "name": "stderr",
     "output_type": "stream",
     "text": [
      "Processing Folder: domain=cartoon, category=person: 100%|██████████| 364/364 [00:01<00:00, 209.91it/s]\n",
      "Processing Folder: domain=cartoon, category=giraffe:   7%|▋         | 22/314 [00:00<00:01, 212.75it/s]"
     ]
    },
    {
     "name": "stdout",
     "output_type": "stream",
     "text": [
      "cartoon\n",
      "giraffe\n"
     ]
    },
    {
     "name": "stderr",
     "output_type": "stream",
     "text": [
      "Processing Folder: domain=cartoon, category=giraffe: 100%|██████████| 314/314 [00:01<00:00, 239.64it/s]\n",
      "Processing Folder: domain=cartoon, category=guitar:  17%|█▋        | 21/123 [00:00<00:00, 208.89it/s]"
     ]
    },
    {
     "name": "stdout",
     "output_type": "stream",
     "text": [
      "cartoon\n",
      "guitar\n"
     ]
    },
    {
     "name": "stderr",
     "output_type": "stream",
     "text": [
      "Processing Folder: domain=cartoon, category=guitar: 100%|██████████| 123/123 [00:00<00:00, 202.29it/s]\n",
      "Processing Folder: domain=cartoon, category=house:   8%|▊         | 22/266 [00:00<00:01, 219.52it/s]"
     ]
    },
    {
     "name": "stdout",
     "output_type": "stream",
     "text": [
      "cartoon\n",
      "house\n"
     ]
    },
    {
     "name": "stderr",
     "output_type": "stream",
     "text": [
      "Processing Folder: domain=cartoon, category=house: 100%|██████████| 266/266 [00:01<00:00, 219.68it/s]\n",
      "Processing Folder: domain=cartoon, category=horse:   7%|▋         | 21/299 [00:00<00:01, 200.95it/s]"
     ]
    },
    {
     "name": "stdout",
     "output_type": "stream",
     "text": [
      "cartoon\n",
      "horse\n"
     ]
    },
    {
     "name": "stderr",
     "output_type": "stream",
     "text": [
      "Processing Folder: domain=cartoon, category=horse: 100%|██████████| 299/299 [00:01<00:00, 233.30it/s]\n",
      "Processing Folder: domain=cartoon, category=elephant:   5%|▍         | 20/411 [00:00<00:02, 193.68it/s]"
     ]
    },
    {
     "name": "stdout",
     "output_type": "stream",
     "text": [
      "cartoon\n",
      "elephant\n"
     ]
    },
    {
     "name": "stderr",
     "output_type": "stream",
     "text": [
      "Processing Folder: domain=cartoon, category=elephant: 100%|██████████| 411/411 [00:01<00:00, 221.27it/s]\n",
      "Processing Folder: domain=art_painting, category=dog:   6%|▋         | 22/348 [00:00<00:01, 215.31it/s]"
     ]
    },
    {
     "name": "stdout",
     "output_type": "stream",
     "text": [
      "art_painting\n",
      "dog\n"
     ]
    },
    {
     "name": "stderr",
     "output_type": "stream",
     "text": [
      "Processing Folder: domain=art_painting, category=dog: 100%|██████████| 348/348 [00:01<00:00, 227.04it/s]\n",
      "Processing Folder: domain=art_painting, category=person:   5%|▌         | 22/404 [00:00<00:01, 217.35it/s]"
     ]
    },
    {
     "name": "stdout",
     "output_type": "stream",
     "text": [
      "art_painting\n",
      "person\n"
     ]
    },
    {
     "name": "stderr",
     "output_type": "stream",
     "text": [
      "Processing Folder: domain=art_painting, category=person: 100%|██████████| 404/404 [00:01<00:00, 215.84it/s]\n",
      "Processing Folder: domain=art_painting, category=giraffe:   8%|▊         | 21/254 [00:00<00:01, 207.40it/s]"
     ]
    },
    {
     "name": "stdout",
     "output_type": "stream",
     "text": [
      "art_painting\n",
      "giraffe\n"
     ]
    },
    {
     "name": "stderr",
     "output_type": "stream",
     "text": [
      "Processing Folder: domain=art_painting, category=giraffe: 100%|██████████| 254/254 [00:01<00:00, 202.76it/s]\n",
      "Processing Folder: domain=art_painting, category=guitar:  11%|█         | 19/169 [00:00<00:00, 188.83it/s]"
     ]
    },
    {
     "name": "stdout",
     "output_type": "stream",
     "text": [
      "art_painting\n",
      "guitar\n"
     ]
    },
    {
     "name": "stderr",
     "output_type": "stream",
     "text": [
      "Processing Folder: domain=art_painting, category=guitar: 100%|██████████| 169/169 [00:00<00:00, 216.05it/s]\n",
      "Processing Folder: domain=art_painting, category=house:   7%|▋         | 18/262 [00:00<00:01, 173.79it/s]"
     ]
    },
    {
     "name": "stdout",
     "output_type": "stream",
     "text": [
      "art_painting\n",
      "house\n"
     ]
    },
    {
     "name": "stderr",
     "output_type": "stream",
     "text": [
      "Processing Folder: domain=art_painting, category=house: 100%|██████████| 262/262 [00:01<00:00, 189.42it/s]\n",
      "Processing Folder: domain=art_painting, category=horse:  11%|█         | 19/179 [00:00<00:00, 187.82it/s]"
     ]
    },
    {
     "name": "stdout",
     "output_type": "stream",
     "text": [
      "art_painting\n",
      "horse\n"
     ]
    },
    {
     "name": "stderr",
     "output_type": "stream",
     "text": [
      "Processing Folder: domain=art_painting, category=horse: 100%|██████████| 179/179 [00:01<00:00, 96.57it/s]\n",
      "Processing Folder: domain=art_painting, category=elephant:   4%|▎         | 8/227 [00:00<00:02, 75.47it/s]"
     ]
    },
    {
     "name": "stdout",
     "output_type": "stream",
     "text": [
      "art_painting\n",
      "elephant\n"
     ]
    },
    {
     "name": "stderr",
     "output_type": "stream",
     "text": [
      "Processing Folder: domain=art_painting, category=elephant: 100%|██████████| 227/227 [00:01<00:00, 126.74it/s]\n",
      "Processing Folder: domain=photo, category=dog:   9%|▉         | 15/169 [00:00<00:01, 147.84it/s]"
     ]
    },
    {
     "name": "stdout",
     "output_type": "stream",
     "text": [
      "photo\n",
      "dog\n"
     ]
    },
    {
     "name": "stderr",
     "output_type": "stream",
     "text": [
      "Processing Folder: domain=photo, category=dog: 100%|██████████| 169/169 [00:00<00:00, 194.02it/s]\n",
      "Processing Folder: domain=photo, category=person:   5%|▌         | 21/383 [00:00<00:01, 208.63it/s]"
     ]
    },
    {
     "name": "stdout",
     "output_type": "stream",
     "text": [
      "photo\n",
      "person\n"
     ]
    },
    {
     "name": "stderr",
     "output_type": "stream",
     "text": [
      "Processing Folder: domain=photo, category=person: 100%|██████████| 383/383 [00:02<00:00, 184.94it/s]\n",
      "Processing Folder: domain=photo, category=giraffe:  13%|█▎        | 22/165 [00:00<00:00, 218.64it/s]"
     ]
    },
    {
     "name": "stdout",
     "output_type": "stream",
     "text": [
      "photo\n",
      "giraffe\n"
     ]
    },
    {
     "name": "stderr",
     "output_type": "stream",
     "text": [
      "Processing Folder: domain=photo, category=giraffe: 100%|██████████| 165/165 [00:00<00:00, 201.81it/s]\n",
      "Processing Folder: domain=photo, category=guitar:  11%|█▏        | 19/167 [00:00<00:00, 188.62it/s]"
     ]
    },
    {
     "name": "stdout",
     "output_type": "stream",
     "text": [
      "photo\n",
      "guitar\n"
     ]
    },
    {
     "name": "stderr",
     "output_type": "stream",
     "text": [
      "Processing Folder: domain=photo, category=guitar: 100%|██████████| 167/167 [00:01<00:00, 123.54it/s]\n",
      "Processing Folder: domain=photo, category=house:   6%|▌         | 15/243 [00:00<00:01, 140.25it/s]"
     ]
    },
    {
     "name": "stdout",
     "output_type": "stream",
     "text": [
      "photo\n",
      "house\n"
     ]
    },
    {
     "name": "stderr",
     "output_type": "stream",
     "text": [
      "Processing Folder: domain=photo, category=house: 100%|██████████| 243/243 [00:01<00:00, 167.64it/s]\n",
      "Processing Folder: domain=photo, category=horse:  11%|█         | 20/186 [00:00<00:00, 198.75it/s]"
     ]
    },
    {
     "name": "stdout",
     "output_type": "stream",
     "text": [
      "photo\n",
      "horse\n"
     ]
    },
    {
     "name": "stderr",
     "output_type": "stream",
     "text": [
      "Processing Folder: domain=photo, category=horse: 100%|██████████| 186/186 [00:01<00:00, 108.49it/s]\n",
      "Processing Folder: domain=photo, category=elephant:   8%|▊         | 15/181 [00:00<00:01, 147.80it/s]"
     ]
    },
    {
     "name": "stdout",
     "output_type": "stream",
     "text": [
      "photo\n",
      "elephant\n"
     ]
    },
    {
     "name": "stderr",
     "output_type": "stream",
     "text": [
      "Processing Folder: domain=photo, category=elephant: 100%|██████████| 181/181 [00:01<00:00, 126.20it/s]\n",
      "Processing Folder: domain=sketch, category=dog:   2%|▏         | 17/697 [00:00<00:04, 167.63it/s]"
     ]
    },
    {
     "name": "stdout",
     "output_type": "stream",
     "text": [
      "sketch\n",
      "dog\n"
     ]
    },
    {
     "name": "stderr",
     "output_type": "stream",
     "text": [
      "Processing Folder: domain=sketch, category=dog: 100%|██████████| 697/697 [00:04<00:00, 150.88it/s]\n",
      "Processing Folder: domain=sketch, category=person:  15%|█▍        | 21/143 [00:00<00:00, 204.26it/s]"
     ]
    },
    {
     "name": "stdout",
     "output_type": "stream",
     "text": [
      "sketch\n",
      "person\n"
     ]
    },
    {
     "name": "stderr",
     "output_type": "stream",
     "text": [
      "Processing Folder: domain=sketch, category=person: 100%|██████████| 143/143 [00:00<00:00, 162.41it/s]\n",
      "Processing Folder: domain=sketch, category=giraffe:   2%|▏         | 14/681 [00:00<00:05, 132.47it/s]"
     ]
    },
    {
     "name": "stdout",
     "output_type": "stream",
     "text": [
      "sketch\n",
      "giraffe\n"
     ]
    },
    {
     "name": "stderr",
     "output_type": "stream",
     "text": [
      "Processing Folder: domain=sketch, category=giraffe: 100%|██████████| 681/681 [00:04<00:00, 153.74it/s]\n",
      "Processing Folder: domain=sketch, category=guitar:   3%|▎         | 16/564 [00:00<00:03, 141.20it/s]"
     ]
    },
    {
     "name": "stdout",
     "output_type": "stream",
     "text": [
      "sketch\n",
      "guitar\n"
     ]
    },
    {
     "name": "stderr",
     "output_type": "stream",
     "text": [
      "Processing Folder: domain=sketch, category=guitar: 100%|██████████| 564/564 [00:03<00:00, 166.52it/s]\n",
      "Processing Folder: domain=sketch, category=house:  19%|█▊        | 14/75 [00:00<00:00, 135.90it/s]"
     ]
    },
    {
     "name": "stdout",
     "output_type": "stream",
     "text": [
      "sketch\n",
      "house\n"
     ]
    },
    {
     "name": "stderr",
     "output_type": "stream",
     "text": [
      "Processing Folder: domain=sketch, category=house: 100%|██████████| 75/75 [00:00<00:00, 146.85it/s]\n",
      "Processing Folder: domain=sketch, category=horse:   3%|▎         | 19/736 [00:00<00:03, 184.12it/s]"
     ]
    },
    {
     "name": "stdout",
     "output_type": "stream",
     "text": [
      "sketch\n",
      "horse\n"
     ]
    },
    {
     "name": "stderr",
     "output_type": "stream",
     "text": [
      "Processing Folder: domain=sketch, category=horse: 100%|██████████| 736/736 [00:04<00:00, 176.31it/s]\n",
      "Processing Folder: domain=sketch, category=elephant:   3%|▎         | 17/674 [00:00<00:03, 167.43it/s]"
     ]
    },
    {
     "name": "stdout",
     "output_type": "stream",
     "text": [
      "sketch\n",
      "elephant\n"
     ]
    },
    {
     "name": "stderr",
     "output_type": "stream",
     "text": [
      "Processing Folder: domain=sketch, category=elephant: 100%|██████████| 674/674 [00:03<00:00, 180.62it/s]\n"
     ]
    }
   ],
   "source": [
    "for root, dirs, files in os.walk(root_dir, topdown=True):\n",
    "    if files and files[0] != '.DS_Store':\n",
    "        _, domain, category = root.rsplit('/', maxsplit=2)\n",
    "        print(domain)\n",
    "        print(category)\n",
    "        domain_set.add(domain)\n",
    "        category_set.add(category)\n",
    "        pbar = tqdm(files)\n",
    "        for name in pbar:\n",
    "            pbar.set_description('Processing Folder: domain=%s, category=%s' %\n",
    "                               (domain, category))\n",
    "            img_array = io.imread(os.path.join(root, name))\n",
    "            dataset.append((img_array, domain, category))"
   ]
  },
  {
   "cell_type": "code",
   "execution_count": 38,
   "metadata": {},
   "outputs": [
    {
     "data": {
      "text/plain": [
       "'dog'"
      ]
     },
     "execution_count": 38,
     "metadata": {},
     "output_type": "execute_result"
    }
   ],
   "source": [
    "dataset[0][2]"
   ]
  },
  {
   "cell_type": "code",
   "execution_count": null,
   "metadata": {},
   "outputs": [],
   "source": []
  }
 ],
 "metadata": {
  "kernelspec": {
   "display_name": "Python 3.7.0 64-bit",
   "language": "python",
   "name": "python37064bitdfada90c99094ef69cf52fad12b82686"
  },
  "language_info": {
   "codemirror_mode": {
    "name": "ipython",
    "version": 3
   },
   "file_extension": ".py",
   "mimetype": "text/x-python",
   "name": "python",
   "nbconvert_exporter": "python",
   "pygments_lexer": "ipython3",
   "version": "3.7.0"
  }
 },
 "nbformat": 4,
 "nbformat_minor": 4
}
